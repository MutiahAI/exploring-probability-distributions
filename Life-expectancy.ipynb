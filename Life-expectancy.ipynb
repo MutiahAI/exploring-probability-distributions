{
 "cells": [
  {
   "cell_type": "markdown",
   "id": "6b2cee23-79c9-4732-addd-4513e6ff7ef0",
   "metadata": {},
   "source": [
    "### LIFE EXPECTANCY STATISTICAL ANALYSIS"
   ]
  },
  {
   "cell_type": "code",
   "execution_count": null,
   "id": "2ad03d4b-5cb4-422b-91a8-ba9b42626933",
   "metadata": {},
   "outputs": [],
   "source": [
    "import pandas as pd\n",
    "import numpy as np\n",
    "import matplotlib.pyplot as plt"
   ]
  },
  {
   "cell_type": "code",
   "execution_count": null,
   "id": "4ec508ee-c839-41d9-9860-c868f8aa7abb",
   "metadata": {},
   "outputs": [],
   "source": [
    "# Reading csv file to be worked on into Dataframe\n",
    "\n",
    "df = pd.read_csv(\"http://data.un.org/_Docs/SYB/CSV/SYB64_246_202110_Population%20Growth,%20Fertility%20and%20Mortality%20Indicators.csv\", encoding = \"latin-1\")\n",
    "df.head()"
   ]
  },
  {
   "cell_type": "code",
   "execution_count": null,
   "id": "2dc520a8-c7e2-468b-b5ba-97fc1e5aec34",
   "metadata": {},
   "outputs": [],
   "source": [
    "# Analysing the data under the Unnamed 3 column\n",
    "df[\"Unnamed: 3\"].unique()"
   ]
  },
  {
   "cell_type": "code",
   "execution_count": null,
   "id": "e5ca5386-a0f2-4d44-b3ee-86d23f9f2c3e",
   "metadata": {},
   "outputs": [],
   "source": [
    "# Extracting Life expectancy data for both sexes\n",
    "\n",
    "df_mask = df[df[\"Unnamed: 3\"] == \"Life expectancy at birth for both sexes (years)\"].reset_index()\n",
    "print(df_mask.shape)\n",
    "df_mask.head()"
   ]
  },
  {
   "cell_type": "code",
   "execution_count": null,
   "id": "37ff005a-c724-456c-892c-74b3554b57bc",
   "metadata": {},
   "outputs": [],
   "source": [
    "# Analysing the data under the \"Population growth and indicators of fertility and mortality\" column\n",
    "df_mask[\"Population growth and indicators of fertility and mortality\"].nunique()\n",
    "df_mask[df_mask[\"Population growth and indicators of fertility and mortality\"] == \"Afghanistan\"]"
   ]
  },
  {
   "cell_type": "code",
   "execution_count": null,
   "id": "80141fcf-12ff-4330-8a75-a54b0b468f07",
   "metadata": {},
   "outputs": [],
   "source": [
    "# Removing rows that are not countries only\n",
    "df_mask.drop(labels = range(0, 90), inplace = True, axis = 0)"
   ]
  },
  {
   "cell_type": "code",
   "execution_count": null,
   "id": "b4a2f894-d924-4934-b2e2-2f12664fd34d",
   "metadata": {},
   "outputs": [],
   "source": [
    "# Creating a new dataframe to use for analysis and removing unrequired columns\n",
    "df1 = df_mask.drop(columns = [\"index\", \"T03\",\"Unnamed: 3\", \"Unnamed: 5\", \"Unnamed: 6\"]).reset_index().rename(columns={\"Unnamed: 2\": \"Year\", \"Unnamed: 4\": \"Life expectancy at birth for both sexes (years)\"})\n",
    "df1 = df1.drop(columns = \"index\")\n",
    "print(df1.shape)\n",
    "df1.head()"
   ]
  },
  {
   "cell_type": "code",
   "execution_count": null,
   "id": "f975076f-ea2c-4d54-89c0-8152ecc03316",
   "metadata": {},
   "outputs": [],
   "source": [
    "# Changing data type of \"Life expectancy at birth for both sexes (years)\" column to float \n",
    "df1[\"Life expectancy at birth for both sexes (years)\"] = df1[\"Life expectancy at birth for both sexes (years)\"].astype(\"float\")\n",
    "df1.info()"
   ]
  },
  {
   "cell_type": "code",
   "execution_count": null,
   "id": "23d287c0-d1be-44e6-99a4-129b9db932d9",
   "metadata": {},
   "outputs": [],
   "source": [
    "# Convert DataFrame to numpy array and print size\n",
    "df_array = df1[\"Life expectancy at birth for both sexes (years)\"].to_numpy()\n",
    "N = df_array.size\n",
    "print(N)"
   ]
  },
  {
   "cell_type": "code",
   "execution_count": null,
   "id": "0aa1d811-e981-4f8a-b2b4-368b11b50f7d",
   "metadata": {},
   "outputs": [],
   "source": [
    "# Plotting an histogram to show the Distribution of Life expectancy at birth (Numpy)\n",
    "\n",
    "plt.hist(df_array,\n",
    "        bins = 25)\n",
    "\n",
    "# Mean and median of Life expectancy column\n",
    "df_mean = np.round_(np.mean(df_array), decimals = 1)\n",
    "df_med = np.round_(np.median(df_array),decimals = 1)\n",
    "\n",
    "# Plotting a line for the mean and median\n",
    "plt.axvline(\n",
    "    df_mean, linestyle=\"--\", color='orange', label = \"Mean Life expectancy\"\n",
    ");\n",
    "plt.axvline(\n",
    "    df_med, linestyle=\"--\", color='green', label = \"Median Life expectancy\"\n",
    ")\n",
    "plt.legend(loc = \"upper left\");"
   ]
  },
  {
   "cell_type": "code",
   "execution_count": null,
   "id": "fe47c8fd-6704-4d38-9bdd-e2b77a1e6236",
   "metadata": {},
   "outputs": [],
   "source": [
    "# Range of Life expectancy column\n",
    "df_range = np.max(df_array) - np.min(df_array)\n",
    "df_range = np.round_(df_range, decimals = 1)\n",
    "\n",
    "# Q1 and Q3 of Life expectancy column\n",
    "q1, q3 = np.quantile(df_array, [0.25, 0.75])\n",
    "q1 = np.round_(q1, decimals = 1)\n",
    "q3 = np.round_(q3, decimals = 1)\n",
    "# IQR of Life expectancy column\n",
    "iqr = np.round_((q3 - q1), decimals = 1)\n",
    "\n",
    "# Standard of Life expectancy column\n",
    "sd = np.round_(np.std(df_array), decimals = 1)\n",
    "\n",
    "sum_ms = np.round_(df_mean + sd, decimals = 1)\n",
    "dif_ms = np.round_(df_mean - sd, decimals = 1)\n",
    "print(\"Mean is {}, Median is {}, Range is {}, Q1 is {}, Q3 is {}\\\n",
    "       \\nIQR is {}, Standard devation is {}, STD + Mean = {}, STD - Mean = {}\" \\\n",
    "      .format(df_mean, df_med, df_range, q1, q3, iqr, sd, sum_ms, dif_ms)\n",
    "     )\n",
    "\n",
    "# Plotting an histogram to show the Distribution of Life expectancy at birth\n",
    "plt.hist(df_array,\n",
    "        bins = 25)\n",
    "\n",
    "# Plotting a line for the mean and median\n",
    "plt.axvline(\n",
    "    q1, linestyle=\"--\", color='orange', label = \"First Quartile\"\n",
    ");\n",
    "plt.axvline(\n",
    "    q3, linestyle=\"--\", color='green', label = \"Third Quartile\"\n",
    ")\n",
    "plt.axvline(\n",
    "    sum_ms, linestyle=\"--\", color='yellow', label = \"Mean + STD\"\n",
    ");\n",
    "plt.axvline(\n",
    "    dif_ms, linestyle=\"--\", color='cyan', label = \"Mean - STD\"\n",
    ")\n",
    "plt.legend(loc = \"upper left\");"
   ]
  },
  {
   "cell_type": "code",
   "execution_count": null,
   "id": "3ec9f207-8f6b-49c4-b0df-476467565510",
   "metadata": {},
   "outputs": [],
   "source": [
    "a, b = 13, 5\n",
    "\n",
    "xx = np.random.beta(a,b, size=N)\n",
    "p = np.linspace(0,100,100)\n",
    "y = np.percentile((df_array/100), p)\n",
    "yy = np.percentile(xx, p)\n",
    "plt.plot(y,yy, 'o')\n",
    "plt.plot(y,y, color='red')"
   ]
  },
  {
   "cell_type": "code",
   "execution_count": null,
   "id": "89bcb01c-54b8-4fdb-aef4-eba2660c45d4",
   "metadata": {},
   "outputs": [],
   "source": [
    "from scipy.stats import beta\n",
    "\n",
    "r = beta.rvs(a,b, size=N)\n",
    "plt.hist(r, 25)\n",
    "\n",
    "# Plotting a line for the mean, first, second and third quartile.\n",
    "plt.axvline(\n",
    "    np.mean(r), linestyle=\"--\", color='magenta', label = \"Mean\"\n",
    ");\n",
    "plt.axvline(\n",
    "    np.quantile(r, 0.25), linestyle=\"--\", color='gold', label = \"Q1\"\n",
    ")\n",
    "plt.axvline(\n",
    "    np.quantile(r, 0.5), linestyle=\"--\", color='yellow', label = \"Q2\"\n",
    ");\n",
    "plt.axvline(\n",
    "    np.quantile(r, 0.75), linestyle=\"--\", color='cyan', label = \"Q3\"\n",
    ")\n",
    "\n",
    "plt.legend(loc = \"upper left\");"
   ]
  }
 ],
 "metadata": {
  "kernelspec": {
   "display_name": "Python 3 (ipykernel)",
   "language": "python",
   "name": "python3"
  },
  "language_info": {
   "codemirror_mode": {
    "name": "ipython",
    "version": 3
   },
   "file_extension": ".py",
   "mimetype": "text/x-python",
   "name": "python",
   "nbconvert_exporter": "python",
   "pygments_lexer": "ipython3",
   "version": "3.10.6"
  }
 },
 "nbformat": 4,
 "nbformat_minor": 5
}
